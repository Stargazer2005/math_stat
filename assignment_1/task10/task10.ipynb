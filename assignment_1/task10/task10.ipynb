{
 "cells": [
  {
   "cell_type": "markdown",
   "metadata": {},
   "source": [
    "# Задание 10\n",
    "\n",
    "### 10. Случайная величина имеет экспоненциальный закон распределения\n",
    "\n",
    "При снятии показаний измерительного прибора десятые доли деления шкалы прибора оцениваются \"на глаз\" наблюдателем. Количества цифр 0, 1, 2, ..., 9, записанных наблюдателем в качестве десятых долей при 100 независимых измерениях, равны 5, 8, 6, 12, 14, 18, 11, 6, 13, 7 соответственно\n",
    "\n",
    "#### a)\n",
    "Проверить гипотезу о согласии данных с законом равномерного распределения с помощью критерия $\\chi ^ 2$ и с помощью критерия Колмогорова. Сравнить результаты."
   ]
  },
  {
   "cell_type": "markdown",
   "metadata": {},
   "source": [
    "$H_0:$ Цифры равновероятны\n",
    "\n",
    "$H_1: \\overline H_0 $"
   ]
  },
  {
   "cell_type": "markdown",
   "metadata": {},
   "source": [
    "##### Критерий Колмогорова\n",
    "\n",
    "$$\n",
    "\\tilde{\\Delta} = \\sqrt{N} * \\max_{x \\in \\mathbb{R}}{|\\tilde {F}(x) - F(x)|}\n",
    "$$"
   ]
  },
  {
   "cell_type": "code",
   "execution_count": 2,
   "metadata": {},
   "outputs": [
    {
     "data": {
      "text/plain": [
       "1.4000000000000001"
      ]
     },
     "execution_count": 2,
     "metadata": {},
     "output_type": "execute_result"
    }
   ],
   "source": [
    "import numpy as np\n",
    "\n",
    "N = 100\n",
    "\n",
    "p = np.array([5,8,6,12,14,18,11,6,13,7])\n",
    "q = np.array([1 for _ in range(10)])\n",
    "\n",
    "F_emp = np.array([sum(p[:i]) for i in range(len(p)+1)]) / 100\n",
    "F_th = np.array([sum(q[:i]) for i in range(len(q))]) / 10\n",
    "\n",
    "\n",
    "delta = np.max([np.sqrt(N) * max(np.abs(F_th[i] - F_emp[i]),np.abs(F_th[i] - F_emp[i+1])) for i in range(F_th.size)])\n",
    "\n",
    "delta"
   ]
  },
  {
   "cell_type": "markdown",
   "metadata": {},
   "source": [
    "$$\n",
    "p-value = P(\\Delta \\geq \\tilde{\\Delta} | H_0)  = 1 - K(\\tilde{\\Delta}), где\n",
    "$$\n",
    "\n",
    "$$\n",
    "K(x) = 1 + 2 * \\sum_{k=1}^{\\infty}(-1)^k \\cdot e ^ {-2k^2 x^2}\n",
    "$$"
   ]
  },
  {
   "cell_type": "code",
   "execution_count": 3,
   "metadata": {},
   "outputs": [
    {
     "data": {
      "text/plain": [
       "0.03968187953811442"
      ]
     },
     "execution_count": 3,
     "metadata": {},
     "output_type": "execute_result"
    }
   ],
   "source": [
    "def K(x):\n",
    "    res=1.0\n",
    "    for i in range(1, 1001):\n",
    "        res += 2 * (-1) ** i * np.exp(-2*(i**2)*(x**2))\n",
    "    return res\n",
    "\n",
    "p_val = 1-K(delta)\n",
    "p_val"
   ]
  },
  {
   "cell_type": "markdown",
   "metadata": {},
   "source": [
    "Отвергаем гипотезу $H_0$, так как $p-value \\le 0.05$"
   ]
  },
  {
   "cell_type": "markdown",
   "metadata": {},
   "source": [
    "Критерий $\\chi^2$ не отвергает гипотезу равномерного распределения, но критерий Колмогорова отвергает её. \\\n",
    "Критерий Колмогорова обнаружил систематические отклонения в распределении."
   ]
  },
  {
   "cell_type": "markdown",
   "metadata": {},
   "source": [
    "#### b)\n",
    "\n",
    "Проверить гипотезу о согласии данных с законом нормального распределения с помощью критерия $\\chi ^ 2$ и с помощью критерия Колмогорова. Сравнить результаты."
   ]
  },
  {
   "cell_type": "markdown",
   "metadata": {},
   "source": [
    "$H_0:$ Данные согласуются с нормальным распределением ~$N(\\alpha, \\sigma^2)$\n",
    "\n",
    "$H_1: \\overline H_0 $"
   ]
  },
  {
   "cell_type": "code",
   "execution_count": 5,
   "metadata": {},
   "outputs": [
    {
     "data": {
      "text/plain": [
       "0.01618"
      ]
     },
     "execution_count": 5,
     "metadata": {},
     "output_type": "execute_result"
    }
   ],
   "source": [
    "import math\n",
    "\n",
    "n_iterations = 50000\n",
    "\n",
    "bootstrap_delta  = []\n",
    "\n",
    "mean = 4.77\n",
    "sigma = np.sqrt(6.34)\n",
    "\n",
    "def n(x, mean_val, std_dev):\n",
    "    return 0.5 * (1 + math.erf((x - mean_val)/(np.sqrt(2) * std_dev)))\n",
    "\n",
    "x = [i for i in range(10)]\n",
    "delta_wave = np.max([np.sqrt(N) * max(np.abs(n(x[i], mean, sigma) - F_emp[i]),np.abs(n(x[i], mean, sigma) - F_emp[i+1])) for i in range(10)])\n",
    "\n",
    "for i in range(n_iterations):\n",
    "    sample = np.random.normal(mean, sigma, N)\n",
    "    sample_sorted = sorted(sample)\n",
    "    bootstrap_F_emp = [i / N for i in range(N + 1)]\n",
    "    bootstrap_mean = np.mean(sample)\n",
    "    bootstrap_std_dev = np.std(sample) * N /(N - 1)\n",
    "    bootstrap_delta.append(np.max([np.sqrt(N) * max(np.abs(n(sample_sorted[j], bootstrap_mean, bootstrap_std_dev) - bootstrap_F_emp[j]), \\\n",
    "                                     np.abs(n(sample_sorted[j], bootstrap_mean, bootstrap_std_dev) - bootstrap_F_emp[j+1])) \\\n",
    "                                        for j in range(len(sample_sorted))]))\n",
    "\n",
    "bootstrap_delta = np.array(bootstrap_delta)\n",
    "p_val = len(bootstrap_delta[bootstrap_delta >= delta_wave]) / n_iterations\n",
    "p_val"
   ]
  },
  {
   "cell_type": "markdown",
   "metadata": {},
   "source": [
    "Отвергаем гипотезу $H_0$, так как $p-value \\le 0.05$"
   ]
  },
  {
   "cell_type": "markdown",
   "metadata": {},
   "source": [
    "Оба критерия отвергли гипотезу нормального распределения.\n",
    "Критерий Коломогорова отверг гипотезу с меньшей мерой значимости."
   ]
  }
 ],
 "metadata": {
  "kernelspec": {
   "display_name": "Python 3",
   "language": "python",
   "name": "python3"
  },
  "language_info": {
   "codemirror_mode": {
    "name": "ipython",
    "version": 3
   },
   "file_extension": ".py",
   "mimetype": "text/x-python",
   "name": "python",
   "nbconvert_exporter": "python",
   "pygments_lexer": "ipython3",
   "version": "3.12.2"
  }
 },
 "nbformat": 4,
 "nbformat_minor": 2
}
