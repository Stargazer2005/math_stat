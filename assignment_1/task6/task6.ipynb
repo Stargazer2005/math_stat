{
 "cells": [
  {
   "cell_type": "markdown",
   "metadata": {},
   "source": [
    "# Задание 6\n",
    "\n",
    "### 6. Случайная величина имеет распределение Парето.\n",
    "\n",
    "\\begin{equation*} \n",
    "p(x) =\n",
    "\\begin{cases} \n",
    "\\frac{\\theta - 1}{x^{\\theta}}, & \\text{если } x \\geq 1 \\\\\n",
    "0, & \\text{если } x < 1\n",
    "\\end{cases}\n",
    ",\\theta > 1.\n",
    "\\end{equation*}\n"
   ]
  },
  {
   "cell_type": "code",
   "execution_count": 1,
   "metadata": {},
   "outputs": [],
   "source": [
    "import numpy as np\n",
    "import random as rd"
   ]
  },
  {
   "cell_type": "markdown",
   "metadata": {},
   "source": [
    "#### d)  Сгенеруйте выборку объёму n = 100 для некоторого значения парамeтра $\\theta$. Вычислите указанные выше доверительные интегралы для доверительной веротяности 0.95."
   ]
  },
  {
   "cell_type": "code",
   "execution_count": 2,
   "metadata": {},
   "outputs": [],
   "source": [
    "theta = 2\n",
    "\n",
    "def p(x: float, th: float) -> float:\n",
    "    return (th - 1) / (x ** th) if x >= 1 else 0\n",
    "\n",
    "def F(x: float, th: float) -> float:\n",
    "    return (1 - x ** (1 - th)) if x >= 1 else 0\n",
    "\n",
    "def F_inv(y: float, th: float) -> float:\n",
    "    return (1 - y) ** (1 / (1 - th))\n",
    "\n",
    "# Размер выборки\n",
    "N = 100\n",
    "arr = []\n",
    "\n",
    "for _ in range(N):\n",
    "    y = rd.random()\n",
    "    arr.append(F_inv(y, theta))"
   ]
  },
  {
   "cell_type": "markdown",
   "metadata": {},
   "source": [
    "Доверительный интервал медианы\n",
    "\n",
    "$$\n",
    "P(g(\\tilde\\theta) - \\frac{1.96 * 2^{\\frac{1}{\\tilde\\theta-1}} \\ln(2)}{\\sqrt{n}(\\tilde\\theta-1)} < median < g(\\tilde\\theta) + \\frac{1.96 * 2^{\\frac{1}{\\tilde\\theta-1}} \\ln(2)}{\\sqrt{n}(\\tilde\\theta-1)})=\\beta\n",
    "$$\n",
    "\n",
    "$$\n",
    "P(2 ^ {\\overline\\ln(x)}- \\frac{t_2  2 ^ {\\overline\\ln(x)} \\ln(2) \\overline\\ln(x)}{\\sqrt{n}} < median < 2 ^ {\\overline\\ln(x)} - \\frac{t_1 2 ^ {\\overline\\ln(x)} \\ln(2)  \\overline\\ln(x)}{\\sqrt{n}})=\\beta\n",
    "$$"
   ]
  },
  {
   "cell_type": "code",
   "execution_count": 3,
   "metadata": {},
   "outputs": [
    {
     "name": "stdout",
     "output_type": "stream",
     "text": [
      "Доверительный интервал: (1.8368907560573788, 2.492066116382171), длина: 0.6551753603247921\n",
      "Медиана:  2.2257031489009735\n"
     ]
    }
   ],
   "source": [
    "beta = 0.95\n",
    "\n",
    "mean_ln = np.mean([np.log(x) for x in arr])\n",
    "\n",
    "g_theta = 2 ** (mean_ln)\n",
    "\n",
    "lower_bound = g_theta - 1.96 * g_theta * np.log(2) * mean_ln / np.sqrt(N)\n",
    "upper_bound = g_theta + 1.96 * g_theta * np.log(2) * mean_ln / np.sqrt(N)\n",
    "\n",
    "print(f\"Доверительный интервал: ({lower_bound}, {upper_bound}), длина: {upper_bound - lower_bound}\")\n",
    "\n",
    "variation_row = sorted(arr)\n",
    "print(\"Медиана: \", (variation_row[49] + variation_row[50])/2)"
   ]
  },
  {
   "cell_type": "markdown",
   "metadata": {},
   "source": [
    "Асимптотический доверительный интервал\n",
    "\n",
    "$$\n",
    "P(1 - \\frac{t_2 - \\sqrt{n}}{\\overline{\\ln(x)} \\sqrt{n}} < \\theta < 1 - \\frac{t_1 - \\sqrt{n}}{\\overline{\\ln(x)} \\sqrt{n}} )=\\beta\n",
    "$$"
   ]
  },
  {
   "cell_type": "code",
   "execution_count": 4,
   "metadata": {},
   "outputs": [
    {
     "name": "stdout",
     "output_type": "stream",
     "text": [
      "Доверительный интервал: (1.7217109325340898, 2.073589894665139), длина: 0.3518789621310492\n"
     ]
    }
   ],
   "source": [
    "beta = 0.95\n",
    "\n",
    "lower_bound = 1 - (1.96 - np.sqrt(N)) / (mean_ln * np.sqrt(N))\n",
    "upper_bound = 1 + (1.96 + np.sqrt(N)) / (mean_ln * np.sqrt(N))\n",
    "\n",
    "print(f\"Доверительный интервал: ({lower_bound}, {upper_bound}), длина: {upper_bound - lower_bound}\")"
   ]
  },
  {
   "cell_type": "markdown",
   "metadata": {},
   "source": [
    "#### e)  Численно постройте бутстрапоский доверительный интервал двумя способами, используя параметрический бутстрап и непараметрический бутстрап."
   ]
  },
  {
   "cell_type": "markdown",
   "metadata": {},
   "source": [
    "Непараметрический бутстрап"
   ]
  },
  {
   "cell_type": "code",
   "execution_count": 5,
   "metadata": {},
   "outputs": [
    {
     "name": "stdout",
     "output_type": "stream",
     "text": [
      "Доверительный интервал: (1.7201553820393358, 2.03660782494037), длина: 0.316452442901034\n"
     ]
    }
   ],
   "source": [
    "# Количество повторений бутстрапа\n",
    "n_iterations = 1000\n",
    "beta = 0.95\n",
    "\n",
    "\n",
    "# Оценка полученная ОМП\n",
    "h_wave = 1 + 1 / mean_ln\n",
    "bootstrap_delta = []\n",
    "\n",
    "for _ in range(n_iterations):\n",
    "    sample = np.random.choice(arr, size=N)\n",
    "    bootstrap_delta.append(1 + 1 / np.mean([np.log(x) for x in sample]) - h_wave)\n",
    "\n",
    "variation_row = sorted(bootstrap_delta)\n",
    "\n",
    "t_1 = variation_row[int((1 - beta) * n_iterations / 2)]\n",
    "t_2 = variation_row[int((1 + beta) * n_iterations / 2)]\n",
    "\n",
    "\n",
    "lower_bound = h_wave - t_2\n",
    "upper_bound = h_wave - t_1\n",
    "\n",
    "print(f\"Доверительный интервал: ({lower_bound}, {upper_bound}), длина: {upper_bound - lower_bound}\")\n"
   ]
  },
  {
   "cell_type": "markdown",
   "metadata": {},
   "source": [
    "Параметрический бутстрап"
   ]
  },
  {
   "cell_type": "code",
   "execution_count": 6,
   "metadata": {},
   "outputs": [
    {
     "name": "stdout",
     "output_type": "stream",
     "text": [
      "Доверительный интервал: (1.690587495908206, 2.0509175415531002), длина: 0.36033004564489435\n"
     ]
    }
   ],
   "source": [
    "# Количество повторений бутстрапа\n",
    "n_iterations = 50000\n",
    "beta = 0.95\n",
    "\n",
    "\n",
    "# Оценка полученная ОМП\n",
    "h_wave = 1 + 1 / mean_ln\n",
    "bootstrap_delta = []\n",
    "\n",
    "for _ in range(n_iterations):\n",
    "    sample  =  []\n",
    "    for _ in range(N):\n",
    "        y = rd.random()\n",
    "        sample.append(F_inv(y, h_wave))\n",
    "\n",
    "    bootstrap_delta.append(1 + 1 / np.mean([np.log(x) for x in sample]) - h_wave)\n",
    "\n",
    "variation_row = sorted(bootstrap_delta)\n",
    "\n",
    "t_1 = variation_row[int((1 - beta) * n_iterations / 2)]\n",
    "t_2 = variation_row[int((1 + beta) * n_iterations / 2)]\n",
    "\n",
    "\n",
    "lower_bound = h_wave - t_2\n",
    "upper_bound = h_wave - t_1\n",
    "\n",
    "print(f\"Доверительный интервал: ({lower_bound}, {upper_bound}), длина: {upper_bound - lower_bound}\")\n"
   ]
  },
  {
   "cell_type": "markdown",
   "metadata": {},
   "source": [
    "#### f)  Сравнить все интервалы. \n",
    "\n",
    "Длина непараметрического бутстраповского дов. инт. < Длина асимптотического дов. инт. < Длина параметрического бутстраповского дов. инт."
   ]
  }
 ],
 "metadata": {
  "kernelspec": {
   "display_name": "Python 3",
   "language": "python",
   "name": "python3"
  },
  "language_info": {
   "codemirror_mode": {
    "name": "ipython",
    "version": 3
   },
   "file_extension": ".py",
   "mimetype": "text/x-python",
   "name": "python",
   "nbconvert_exporter": "python",
   "pygments_lexer": "ipython3",
   "version": "3.12.2"
  }
 },
 "nbformat": 4,
 "nbformat_minor": 2
}
