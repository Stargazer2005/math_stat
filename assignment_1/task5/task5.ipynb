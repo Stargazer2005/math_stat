{
 "cells": [
  {
   "cell_type": "markdown",
   "metadata": {},
   "source": [
    "# Задание 5\n",
    "\n",
    "### 5. Случайная величина распределена раваномерно на отрезке $[\\theta, 2 \\theta].\n"
   ]
  },
  {
   "cell_type": "code",
   "execution_count": 5,
   "metadata": {},
   "outputs": [],
   "source": [
    "import numpy as np\n",
    "import random as rd"
   ]
  },
  {
   "cell_type": "markdown",
   "metadata": {},
   "source": [
    "#### f)  Сгенеруйте выборку объёму n = 100 для некоторого значения парамeтра $\\theta$. Вычислите указанные выше доверительные интегралы для доверительной веротяности 0.95."
   ]
  },
  {
   "cell_type": "code",
   "execution_count": 6,
   "metadata": {},
   "outputs": [],
   "source": [
    "theta = 1\n",
    "\n",
    "def p(x: float) -> float:\n",
    "    return  1 / theta if (2 * theta >= x >= theta) else 0\n",
    "\n",
    "def F(x: float) -> float:\n",
    "    return x/theta - 1 if (2 * theta >= x >= theta) else 0\n",
    "\n",
    "def F_inv(y: float) -> float:\n",
    "    return theta * (y + 1)\n",
    "\n",
    "# Размер выборки\n",
    "N = 100\n",
    "arr = []\n",
    "\n",
    "for _ in range(N):\n",
    "    y = rd.random()\n",
    "    arr.append(F_inv(y))"
   ]
  },
  {
   "cell_type": "markdown",
   "metadata": {},
   "source": [
    "Точный доверительный интервал\n",
    "\n",
    "$$\n",
    "P(\\frac{x_{max}}{1 + \\sqrt[n]{\\frac{1 + \\beta}{2}}} < \\theta < \\frac{x_{max}}{1 + \\sqrt[n]{\\frac{1 - \\beta}{2}}})=\\beta\n",
    "$$"
   ]
  },
  {
   "cell_type": "code",
   "execution_count": 11,
   "metadata": {},
   "outputs": [
    {
     "name": "stdout",
     "output_type": "stream",
     "text": [
      "Доверительный интервал: (0.9972194356317767, 1.0154819127195576), длина: 0.018262477087780837\n"
     ]
    }
   ],
   "source": [
    "beta = 0.95\n",
    "x_max = np.max(arr)\n",
    "\n",
    "lower_bound = x_max/(1 + ((1 + beta) / 2) ** (1 / N))\n",
    "upper_bound = x_max/(1 + ((1 - beta) / 2) ** (1 / N))\n",
    "\n",
    "print(f\"Доверительный интервал: ({lower_bound}, {upper_bound}), длина: {upper_bound - lower_bound}\")"
   ]
  },
  {
   "cell_type": "markdown",
   "metadata": {},
   "source": [
    "Асимптотический доверительный интервал\n",
    "\n",
    "$$\n",
    "P(\\tilde{\\theta_{1}} - \\frac{2 s t_2 \\sqrt{n-1}}{3 n} < \\theta < \\tilde{\\theta_{1}} - \\frac{2 s t_1 \\sqrt{n-1}}{3 n})=\\beta\n",
    "$$"
   ]
  },
  {
   "cell_type": "code",
   "execution_count": 12,
   "metadata": {},
   "outputs": [
    {
     "name": "stdout",
     "output_type": "stream",
     "text": [
      "Доверительный интервал: (0.9690997268827125, 1.042172839869309), длина: 0.07307311298659658\n"
     ]
    }
   ],
   "source": [
    "beta = 0.95\n",
    "theta_1 = 2 * np.mean(arr) / 3\n",
    "\n",
    "s = np.sqrt((np.sum([(x - np.mean(arr)) ** 2 for x in arr]))/(N-1))\n",
    "\n",
    "lower_bound = theta_1 - 2 * s * 1.96 * np.sqrt(N - 1)/(3 * N)\n",
    "upper_bound = theta_1 + 2 * s * 1.96 * np.sqrt(N - 1)/(3 * N)\n",
    "\n",
    "print(f\"Доверительный интервал: ({lower_bound}, {upper_bound}), длина: {upper_bound - lower_bound}\")"
   ]
  },
  {
   "cell_type": "markdown",
   "metadata": {},
   "source": [
    "\n",
    "#### g)  Численно постройте бутстраповский доверительный интервал."
   ]
  },
  {
   "cell_type": "code",
   "execution_count": 18,
   "metadata": {},
   "outputs": [
    {
     "name": "stdout",
     "output_type": "stream",
     "text": [
      "Доверительный интервал: (1.002053877318711, 1.0053148291283858), длина: 0.0032609518096746726\n"
     ]
    }
   ],
   "source": [
    "# Количество повторений бутстрапа\n",
    "n_iterations = 1000\n",
    "beta = 0.95\n",
    "\n",
    "\n",
    "# Оценка полученная ОМП\n",
    "h_wave = (N + 1) * x_max / (2 * N + 1)\n",
    "\n",
    "bootstrap_delta = []\n",
    "\n",
    "for _ in range(n_iterations):\n",
    "    sample = np.random.choice(arr, size=N)\n",
    "    bootstrap_delta.append((N + 1) * np.max(sample) / (2 * N + 1) - h_wave)\n",
    "\n",
    "variation_row = sorted(bootstrap_delta)\n",
    "\n",
    "t_1 = variation_row[int((1 - beta) * n_iterations / 2)]\n",
    "t_2 = variation_row[int((1 + beta) * n_iterations / 2)]\n",
    "\n",
    "\n",
    "lower_bound = h_wave - t_2\n",
    "upper_bound = h_wave - t_1\n",
    "\n",
    "print(f\"Доверительный интервал: ({lower_bound}, {upper_bound}), длина: {upper_bound - lower_bound}\")\n"
   ]
  },
  {
   "cell_type": "markdown",
   "metadata": {},
   "source": [
    "#### h)  Сравнить все интервалы. \n",
    "\n",
    "Длина непараметрического бутстраповского дов. инт. < Длина точного дов. инт. < Длина асимптотический дов. инт.\n",
    "\n",
    "Это связано с тем, что метод бутсрапа занижает длину дов. интервала, а точный метод даёт лучшую оценку, чем асимптотический подход."
   ]
  }
 ],
 "metadata": {
  "kernelspec": {
   "display_name": "Python 3",
   "language": "python",
   "name": "python3"
  },
  "language_info": {
   "codemirror_mode": {
    "name": "ipython",
    "version": 3
   },
   "file_extension": ".py",
   "mimetype": "text/x-python",
   "name": "python",
   "nbconvert_exporter": "python",
   "pygments_lexer": "ipython3",
   "version": "3.12.2"
  }
 },
 "nbformat": 4,
 "nbformat_minor": 2
}
