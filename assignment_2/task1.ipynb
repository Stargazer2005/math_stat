{
 "cells": [
  {
   "cell_type": "markdown",
   "id": "bb7bee4a",
   "metadata": {},
   "source": [
    "## 1. Случайный вектор $(\\xi_1, \\xi_2, \\xi_3, \\xi_4, \\xi_5, \\eta)$ имеет компоненты, распределенные по следующему закону: $\\xi_k \\sim R(-1,1)$, $\\eta \\sim N(2 + 3x_1 - 2x_2 + x_3 + x_4 - x_5, 1.5^2)$, где $x_k$ это значения, которые принимает случайная величина $\\xi_k$. Сгенерировать выборку объема $(n = 50)$."
   ]
  },
  {
   "cell_type": "code",
   "execution_count": 32,
   "id": "00cb95e9",
   "metadata": {},
   "outputs": [
    {
     "name": "stdout",
     "output_type": "stream",
     "text": [
      "         ξ1        ξ2        ξ3        ξ4        ξ5         η\n",
      "0  0.888993  0.359403 -0.087548 -0.163211  0.860625  4.159835\n",
      "1 -0.071804 -0.162041  0.221265  0.324508 -0.788372  3.048777\n",
      "2 -0.614410  0.805717 -0.510013  0.961106 -0.425239 -0.837906\n",
      "3  0.163790  0.890323  0.412355 -0.685125 -0.925995  1.271514\n",
      "4  0.240168  0.954102  0.533532 -0.342739 -0.225371 -1.461054\n"
     ]
    }
   ],
   "source": [
    "import numpy as np\n",
    "import pandas as pd\n",
    "\n",
    "n = 50\n",
    "np.random.seed(37)\n",
    "\n",
    "xi1 = np.random.uniform(-1, 1, n)\n",
    "xi2 = np.random.uniform(-1, 1, n)\n",
    "xi3 = np.random.uniform(-1, 1, n)\n",
    "xi4 = np.random.uniform(-1, 1, n)\n",
    "xi5 = np.random.uniform(-1, 1, n)\n",
    "\n",
    "eta_mean = 2 + 3*xi1 - 2*xi2 + xi3 + xi4 - xi5\n",
    "eta = np.random.normal(eta_mean, 1.5, n)\n",
    "\n",
    "data = pd.DataFrame({\n",
    "    'ξ1': xi1,\n",
    "    'ξ2': xi2,\n",
    "    'ξ3': xi3,\n",
    "    'ξ4': xi4,\n",
    "    'ξ5': xi5,\n",
    "    'η': eta\n",
    "})\n",
    "\n",
    "print(data.head())"
   ]
  },
  {
   "cell_type": "markdown",
   "id": "18caaa2a",
   "metadata": {},
   "source": [
    "### a. Проверить переменные \\($\\xi_k$\\) на мультиколлинеарность."
   ]
  },
  {
   "cell_type": "code",
   "execution_count": 33,
   "id": "90321220",
   "metadata": {},
   "outputs": [
    {
     "name": "stdout",
     "output_type": "stream",
     "text": [
      "R² для ξ1: 0.034\n",
      "R² для ξ2: 0.053\n",
      "R² для ξ3: 0.052\n",
      "R² для ξ4: 0.077\n",
      "R² для ξ5: 0.007\n"
     ]
    }
   ],
   "source": [
    "import statsmodels.api as sm\n",
    "\n",
    "X = data[['ξ1', 'ξ2', 'ξ3', 'ξ4', 'ξ5']]\n",
    "\n",
    "for k in range(1,5 + 1):\n",
    "    # Регрессия ξk на остальные переменные\n",
    "    model = sm.OLS(X[f'ξ{k}'], sm.add_constant(X.drop(f'ξ{k}', axis=1))).fit()\n",
    "    print(f'R² для ξ{k}: {model.rsquared:.3f}')\n"
   ]
  },
  {
   "cell_type": "markdown",
   "id": "9cde8b2c",
   "metadata": {},
   "source": [
    "Все значения $R^2$ на остальные переменные меньше 0.7, мультиколлинеарность отсутствует.\n",
    "Это ожидаемо, так как переменные были сгенерированы независимо."
   ]
  },
  {
   "cell_type": "markdown",
   "id": "f5b8e6ca",
   "metadata": {},
   "source": [
    "### b. Определить уравнение линейной регрессии: $\\eta = \\beta_0 + \\sum_{k=1}^5 \\beta_k \\xi_k$ и проверить значимость коэффициентов."
   ]
  },
  {
   "cell_type": "code",
   "execution_count": 34,
   "id": "5bea9c56",
   "metadata": {},
   "outputs": [
    {
     "name": "stdout",
     "output_type": "stream",
     "text": [
      "Params:\n",
      "const    1.829939\n",
      "ξ1       3.129662\n",
      "ξ2      -2.018171\n",
      "ξ3       1.206193\n",
      "ξ4       0.959783\n",
      "ξ5      -0.665811\n",
      "dtype: float64\n",
      "\n",
      "RSS: 68.7728\n",
      "\n",
      "  Параметр     Дельта       P-value             Итог\n",
      "0    const  10.014811  6.382851e-13  Параметр значим\n",
      "1       ξ1  10.265884  2.955549e-13  Параметр значим\n",
      "2       ξ2  -6.055131  2.800255e-07  Параметр значим\n",
      "3       ξ3   3.868255  3.582925e-04  Параметр значим\n",
      "4       ξ4   2.766279  8.258493e-03  Параметр значим\n",
      "5       ξ5  -2.194236  3.354312e-02  Параметр значим\n"
     ]
    }
   ],
   "source": [
    "from scipy.stats import t\n",
    "import pandas as pd\n",
    "\n",
    "PSI = sm.add_constant(X)\n",
    "\n",
    "# Регрессия η\n",
    "model = sm.OLS(data['η'], PSI).fit()\n",
    "print(f'Params:\\n{model.params}\\n')\n",
    "\n",
    "# Матрица Фишера\n",
    "F = PSI.T @ PSI\n",
    "F_inv = np.linalg.inv(F)\n",
    "\n",
    "# RSS\n",
    "RSS = model.ssr\n",
    "print(f'RSS: {RSS:.4f}\\n')\n",
    "\n",
    "# Проверка значимости коэфф. регрессии\n",
    "labels = ['const', 'ξ1', 'ξ2', 'ξ3', 'ξ4', 'ξ5']\n",
    "\n",
    "sign_df = pd.DataFrame(columns = ['Параметр', 'Дельта', 'P-value', 'Итог'])\n",
    "for k in range(len(labels)):\n",
    "    delta = model.params[labels[k]] * np.sqrt(model.df_resid) / np.sqrt(RSS * F_inv[k][k])\n",
    "    p_value = 2 * t.sf(np.abs(delta), model.df_resid)\n",
    "    if (p_value < 0.05):\n",
    "        sign_df.loc[k] = [labels[k], delta, p_value, 'Параметр значим']\n",
    "    else:\n",
    "        sign_df.loc[k] = [labels[k], delta, p_value, 'Параметр незначим']\n",
    "\n",
    "print(sign_df)"
   ]
  },
  {
   "cell_type": "markdown",
   "id": "f82257c1",
   "metadata": {},
   "source": [
    "### c. Определить коэффициент детерминации и проверить его значимость.\n",
    "\n",
    "$$\n",
    "\\Delta \\sim F(5, 44)\n",
    "$$"
   ]
  },
  {
   "cell_type": "code",
   "execution_count": 35,
   "id": "6fe3bd88",
   "metadata": {},
   "outputs": [
    {
     "name": "stdout",
     "output_type": "stream",
     "text": [
      "Коэффициент детерминации: 0.8030\n",
      "Дельта: 35.8706\n",
      "P-value: 1.8538431446741047e-14\n",
      "Коэффициент детерминации значим\n"
     ]
    }
   ],
   "source": [
    "from scipy.stats import f\n",
    "\n",
    "print(f'Коэффициент детерминации: {model.rsquared:.4f}')\n",
    "\n",
    "delta = (model.centered_tss - RSS) * (model.df_resid) / (RSS * (n - model.df_resid - 1))\n",
    "p_value = f.sf(delta, n - model.df_resid - 1, model.df_resid)\n",
    "print(f'Дельта: {delta:.4f}')\n",
    "print(f'P-value: {p_value}')\n",
    "if (p_value < 0.05):\n",
    "    print('Коэффициент детерминации значим')\n",
    "else:\n",
    "    print('Коэффициент детерминации незначим')"
   ]
  },
  {
   "cell_type": "markdown",
   "id": "f5eabeba",
   "metadata": {},
   "source": [
    "\n",
    "### d. Найти значение в точке \\($x_k$ = 0\\) и построить 95% доверительный интервал."
   ]
  },
  {
   "cell_type": "code",
   "execution_count": 36,
   "id": "4875bcb0",
   "metadata": {},
   "outputs": [
    {
     "name": "stdout",
     "output_type": "stream",
     "text": [
      "Доверительный интервал: (-0.7165, 4.3763)\n"
     ]
    }
   ],
   "source": [
    "y_wave = model.params['const']\n",
    "\n",
    "X_0 = np.array([1, 0, 0, 0, 0, 0])\n",
    "\n",
    "delta = t.ppf(1 - 0.05/2, model.df_resid) * np.sqrt(1 + X_0 @ F_inv @ X_0.T) * np.sqrt(RSS/model.df_resid)\n",
    "\n",
    "print(f'Доверительный интервал: ({y_wave - delta:.4f}, {y_wave + delta:.4f})')"
   ]
  },
  {
   "cell_type": "markdown",
   "id": "f032767a",
   "metadata": {},
   "source": [
    "### e. Проверить предположение о независимости ошибок измерения.\n",
    "\n",
    "$H_0$: Ошибки измерения независимы и одинаковы распределены\n",
    "\n",
    "$H_1: \\overline H_0$"
   ]
  },
  {
   "cell_type": "code",
   "execution_count": 37,
   "id": "f426bc13",
   "metadata": {},
   "outputs": [
    {
     "name": "stdout",
     "output_type": "stream",
     "text": [
      "Дельта: -1.0946\n",
      "P-value: 0.2737\n",
      "Нет оснований отвергать H₀\n"
     ]
    }
   ],
   "source": [
    "from scipy.stats import rankdata, norm\n",
    "\n",
    "# Вектор ошибок\n",
    "e = model.resid\n",
    "\n",
    "def count_inversions(arr):\n",
    "    ranks = rankdata(arr, method='average')  # Преобразуем в ранги\n",
    "    inv_count = 0\n",
    "    for i in range(len(ranks)):\n",
    "        inv_count += np.sum(ranks[i+1:] < ranks[i])  # Считаем инверсии\n",
    "    return int(inv_count)\n",
    "\n",
    "delta = (count_inversions(e) - n * (n - 1) / 4) / np.sqrt((n ** 3) / 36)\n",
    "p_value = 2*norm.sf(np.abs(delta), 0, 1)\n",
    "print(f'Дельта: {delta:.4f}')  \n",
    "print(f'P-value: {p_value:.4f}')\n",
    "if (p_value < 0.05):\n",
    "    print('Отвергаем H₀')\n",
    "else:\n",
    "    print('Нет оснований отвергать H₀')\n"
   ]
  },
  {
   "cell_type": "markdown",
   "id": "69eca000",
   "metadata": {},
   "source": [
    "\n",
    "### f. Проверить предположение о нормальности распределения ошибок.\n",
    "\n",
    "$H_0$: Ошибки измерения нормально распределены\n",
    "\n",
    "$H_1: \\overline H_0$"
   ]
  },
  {
   "cell_type": "code",
   "execution_count": 38,
   "id": "9e006e56",
   "metadata": {},
   "outputs": [
    {
     "name": "stdout",
     "output_type": "stream",
     "text": [
      "Дельта: 0.0801\n",
      "P-value: 0.5779\n",
      "Нет оснований отвергать H₀\n"
     ]
    }
   ],
   "source": [
    "from statsmodels.stats.diagnostic import lilliefors\n",
    "\n",
    "# Колмогоров для проверки сложной гипотезы\n",
    "delta, p_value = lilliefors(e, dist='norm')\n",
    "print(f'Дельта: {delta:.4f}')\n",
    "print(f'P-value: {p_value:.4f}')\n",
    "if (p_value < 0.05):\n",
    "    print('Отвергаем H₀')\n",
    "else:\n",
    "    print('Нет оснований отвергать H₀')"
   ]
  },
  {
   "cell_type": "markdown",
   "id": "3faa3a61",
   "metadata": {},
   "source": [
    "### g. Исследовать регрессию на выбросы."
   ]
  },
  {
   "cell_type": "code",
   "execution_count": 39,
   "id": "b9cb099a",
   "metadata": {},
   "outputs": [
    {
     "data": {
      "image/png": "[encoded data removed]",
      "text/plain": [
       "<Figure size 640x480 with 1 Axes>"
      ]
     },
     "metadata": {},
     "output_type": "display_data"
    }
   ],
   "source": [
    "import matplotlib.pyplot as plt\n",
    "\n",
    "fig, ax = plt.subplots()\n",
    "ax.boxplot(e, vert=False, patch_artist=True, showfliers=True)\n",
    "ax.set_title('Boxplot')\n",
    "ax.axis('on')\n",
    "ax.grid()\n",
    "plt.show()"
   ]
  },
  {
   "cell_type": "markdown",
   "id": "ba2de3d9",
   "metadata": {},
   "source": [
    "### h. Провести кросс-проверку регрессии."
   ]
  },
  {
   "cell_type": "code",
   "execution_count": 40,
   "id": "7b717a8d",
   "metadata": {},
   "outputs": [
    {
     "name": "stdout",
     "output_type": "stream",
     "text": [
      "CVSS: 88.02040010156209\n",
      "R² кросс-валидации: 0.7478683373138664\n"
     ]
    }
   ],
   "source": [
    "CVSS = 0\n",
    "for i in range(n):\n",
    "    train_x = sm.add_constant(data.drop(i))[labels]\n",
    "    train_y= sm.add_constant(data.drop(i)).η\n",
    "\n",
    "    test_x = (sm.add_constant(data)[labels]).iloc[i]\n",
    "    test_y = (sm.add_constant(data).η).iloc[i]\n",
    "\n",
    "    model_n = sm.OLS(train_y, train_x).fit()\n",
    "    y_wave = model_n.params.dot(test_x)\n",
    "\n",
    "    CVSS += (y_wave - test_y) ** 2\n",
    "\n",
    "print(f'CVSS: {CVSS}')\n",
    "print(f'R² кросс-валидации: {(model.centered_tss - CVSS) / model.centered_tss}')"
   ]
  },
  {
   "cell_type": "markdown",
   "id": "01cc786c",
   "metadata": {},
   "source": [
    "### i. Проверить адекватность регрессии, сделав 5 повторных измерений в одной точке.\n",
    "\n",
    "$$\n",
    "\\tilde{\\sigma}_1^2 = \\frac{\\sum_{i=1}^{n}{(y_i - \\overline y)^2}}{l - 1}\n",
    "$$\n",
    "\n",
    "$$\n",
    "\\Delta \\sim F(n - p, l - 1)\n",
    "$$"
   ]
  },
  {
   "cell_type": "code",
   "execution_count": 41,
   "id": "b0ce5661",
   "metadata": {},
   "outputs": [
    {
     "name": "stdout",
     "output_type": "stream",
     "text": [
      "Дельта: 1.2836\n",
      "P-value: 0.4552\n",
      "Модель адекватна\n"
     ]
    }
   ],
   "source": [
    "point = [1, 0, 0, 0, 0, 0]\n",
    "l = 5\n",
    "eta_one_point = np.random.normal(2, 1.5, l)\n",
    "\n",
    "y_mean = np.mean(eta_one_point)\n",
    "sigma_sq_wave = np.sum((eta_one_point - y_mean) ** 2) / (l - 1)\n",
    "\n",
    "delta = RSS / (model.df_resid * sigma_sq_wave)\n",
    "p_value = f.sf(delta, model.df_resid, l - 1)\n",
    "print(f'Дельта: {delta:.4f}')\n",
    "print(f'P-value: {p_value:.4f}')\n",
    "if (p_value < 0.05):\n",
    "    print('Модель не адекватна')\n",
    "else:\n",
    "    print('Модель адекватна')\n"
   ]
  },
  {
   "cell_type": "markdown",
   "id": "417a329f",
   "metadata": {},
   "source": [
    "### j. Удалить переменную, соответствующую наименее значимому коэфициенту и повторить пункты b и с, сравнить уравнения регрессии."
   ]
  },
  {
   "cell_type": "code",
   "execution_count": 42,
   "id": "08eda624",
   "metadata": {},
   "outputs": [
    {
     "name": "stdout",
     "output_type": "stream",
     "text": [
      "Params:\n",
      "const    1.818784\n",
      "ξ1       3.136584\n",
      "ξ2      -2.017867\n",
      "ξ3       1.258317\n",
      "ξ4       0.950920\n",
      "dtype: float64\n",
      "\n",
      "RSS: 76.2982\n",
      "\n",
      "  Параметр    Дельта       P-value             Итог\n",
      "0    const  9.560630  2.084318e-12  Параметр значим\n",
      "1       ξ1  9.878935  7.605759e-13  Параметр значим\n",
      "2       ξ2 -5.812850  5.915298e-07  Параметр значим\n",
      "3       ξ3  3.885827  3.321133e-04  Параметр значим\n",
      "4       ξ4  2.631646  1.159759e-02  Параметр значим\n"
     ]
    }
   ],
   "source": [
    "# ξ5 наименее значимый\n",
    "X_dim = data[['ξ1', 'ξ2', 'ξ3', 'ξ4']]\n",
    "\n",
    "PSI_dim = sm.add_constant(X_dim)\n",
    "\n",
    "# Регрессия η\n",
    "model_dim = sm.OLS(data['η'], PSI_dim).fit()\n",
    "print(f'Params:\\n{model_dim.params}\\n')\n",
    "\n",
    "# Матрица Фишера\n",
    "F_dim = PSI_dim.T @ PSI_dim\n",
    "F_inv_dim = np.linalg.inv(F_dim)\n",
    "\n",
    "# RSS\n",
    "RSS_dim = model_dim.ssr\n",
    "print(f'RSS: {RSS_dim:.4f}\\n')\n",
    "\n",
    "# Проверка значимости коэфф. регрессии\n",
    "labels_dim = ['const', 'ξ1', 'ξ2', 'ξ3', 'ξ4']\n",
    "\n",
    "sign_df = pd.DataFrame(columns = ['Параметр', 'Дельта', 'P-value', 'Итог'])\n",
    "for k in range(0, len(labels_dim)):\n",
    "    delta = model_dim.params[labels_dim[k]] * np.sqrt(model_dim.df_resid) / np.sqrt(RSS_dim * F_inv_dim[k][k])\n",
    "    p_value = 2 * t.cdf(-np.abs(delta), model_dim.df_resid)\n",
    "    if (p_value < 0.05):\n",
    "        sign_df.loc[k] = [labels[k], delta, p_value, 'Параметр значим']\n",
    "    else:\n",
    "        sign_df.loc[k] = [labels[k], delta, p_value, 'Параметр незначим']\n",
    "\n",
    "print(sign_df)"
   ]
  },
  {
   "cell_type": "markdown",
   "id": "8c1ce67a",
   "metadata": {},
   "source": [
    "\n",
    "$$\n",
    "\\Delta \\sim F(4, 45)\n",
    "$$"
   ]
  },
  {
   "cell_type": "code",
   "execution_count": 43,
   "id": "e262f06b",
   "metadata": {},
   "outputs": [
    {
     "name": "stdout",
     "output_type": "stream",
     "text": [
      "Коэффициент детерминации: 0.7814\n",
      "Дельта: 40.2247\n",
      "P-value: 2.565470812987836e-14\n",
      "Коэффициент детерминации значим\n"
     ]
    }
   ],
   "source": [
    "from scipy.stats import f\n",
    "\n",
    "print(f'Коэффициент детерминации: {model_dim.rsquared:.4f}')\n",
    "\n",
    "delta = (model_dim.centered_tss - RSS_dim) * (model_dim.df_resid) / (RSS_dim * (n - model_dim.df_resid - 1))\n",
    "p_value = f.sf(delta, n - model_dim.df_resid - 1, model_dim.df_resid)\n",
    "print(f'Дельта: {delta:.4f}')\n",
    "print(f'P-value: {p_value}')\n",
    "if (p_value < 0.05):\n",
    "    print('Коэффициент детерминации значим')\n",
    "else:\n",
    "    print('Коэффициент детерминации незначим')"
   ]
  },
  {
   "cell_type": "markdown",
   "id": "ddc97f7d",
   "metadata": {},
   "source": [
    "$$\n",
    "H_0: \\beta_i = 0, \\forall i \\in I\n",
    "$$\n",
    "\n",
    "$$\n",
    "H_1: \\exist i \\in I: \\beta_i \\neq 0\n",
    "$$\n",
    "\n",
    "\n",
    "$$\n",
    "\\Delta = \\frac{\\frac{RSS_0 - RSS_1}{p_1 - p_0}}{\\frac{RSS_1}{n - p_1}} \\sim F(p_1 - p_0, n - p_1)\n",
    "$$"
   ]
  },
  {
   "cell_type": "code",
   "execution_count": 44,
   "id": "b89d3f35",
   "metadata": {},
   "outputs": [
    {
     "name": "stdout",
     "output_type": "stream",
     "text": [
      "Дельта: 4.8147\n",
      "P-value: 0.03354312011385344\n",
      "Отвергаем H₀\n"
     ]
    }
   ],
   "source": [
    "delta = ((RSS_dim - RSS) * model.df_resid) / (RSS * (model_dim.df_resid - model.df_resid))\n",
    "p_value = f.sf(delta, model_dim.df_resid - model.df_resid, model.df_resid)\n",
    "print(f'Дельта: {delta:.4f}')\n",
    "print(f'P-value: {p_value}')\n",
    "if (p_value < 0.05):\n",
    "    print('Отвергаем H₀')\n",
    "else:\n",
    "    print('Нет оснований отвергать H₀')"
   ]
  },
  {
   "cell_type": "markdown",
   "id": "6e2e285a",
   "metadata": {},
   "source": [
    "### k. Сравнить уравнения регрессии бутстрапом."
   ]
  },
  {
   "cell_type": "code",
   "execution_count": 45,
   "id": "fd8f2d26",
   "metadata": {},
   "outputs": [
    {
     "name": "stdout",
     "output_type": "stream",
     "text": [
      "Доверительный интервал: (-0.05694347544597944, 0.04112820146148577), длина: 0.09807167690746521\n",
      "Различие незначимо\n"
     ]
    }
   ],
   "source": [
    "# Количество повторений бутстрапа\n",
    "n_iterations = 1000\n",
    "beta = 0.95\n",
    "\n",
    "# Оценка полученная ОМП\n",
    "h_wave = model.rsquared - model_dim.rsquared\n",
    "bootstrap_delta = []\n",
    "\n",
    "for _ in range(n_iterations):\n",
    "    sample = sm.add_constant(data.sample(n=n, replace=True))\n",
    "    b_model = sm.OLS(sample.η, sample[labels]).fit()\n",
    "    b_model_dim = sm.OLS(sample.η, sample[labels_dim]).fit()\n",
    "    bootstrap_delta.append(b_model.rsquared - b_model_dim.rsquared - h_wave)\n",
    "\n",
    "variation_row = sorted(bootstrap_delta)\n",
    "\n",
    "t = variation_row[int((1 - beta) * n_iterations)]\n",
    "\n",
    "lower_bound = h_wave - variation_row[-1]\n",
    "upper_bound = h_wave - t\n",
    "\n",
    "print(f'Доверительный интервал: ({lower_bound}, {upper_bound}), длина: {upper_bound - lower_bound}')\n",
    "if (lower_bound * upper_bound > 0):\n",
    "    print('Различие значимо')\n",
    "else:\n",
    "    print('Различие незначимо')"
   ]
  }
 ],
 "metadata": {
  "kernelspec": {
   "display_name": "my-rdkit-env",
   "language": "python",
   "name": "python3"
  },
  "language_info": {
   "codemirror_mode": {
    "name": "ipython",
    "version": 3
   },
   "file_extension": ".py",
   "mimetype": "text/x-python",
   "name": "python",
   "nbconvert_exporter": "python",
   "pygments_lexer": "ipython3",
   "version": "3.13.0"
  }
 },
 "nbformat": 4,
 "nbformat_minor": 5
}
