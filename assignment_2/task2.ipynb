{
 "cells": [
  {
   "cell_type": "markdown",
   "id": "eccd9768",
   "metadata": {},
   "source": [
    "## 2. В таблице приведены данные о содержании иммуноглобулина Ig A в сыворотке крови у больных пяти возрастных групп:\n",
    "\n",
    "| № | Содержание Ig A(%)                         |\n",
    "|:-:|:-------------------------------------------|\n",
    "| 1 | 83, 85                                     |\n",
    "| 2 | 84, 85, 85, 86, 86, 87                     |\n",
    "| 3 | 86, 87, 87, 87, 88, 88, 88, 88, 88, 89, 90 |\n",
    "| 4 | 89, 90, 90, 91                             |\n",
    "| 5 | 90, 92                                     |\n",
    "\n",
    "a) Определить влияние возраста на содержание иммуноглобулина в крови с помощью регриссионного анализа.\n",
    "\n",
    "b) Провести попарное сравнение средних в рамках регрессионной модели, с учётом множественности проверяемых гипотез."
   ]
  },
  {
   "cell_type": "code",
   "execution_count": 1,
   "id": "0cc596ba",
   "metadata": {},
   "outputs": [
    {
     "name": "stdout",
     "output_type": "stream",
     "text": [
      "R² для Age_1: 0.080\n",
      "R² для Age_2: 0.149\n",
      "R² для Age_4: 0.127\n",
      "R² для Age_5: 0.080\n",
      "const    87.818182\n",
      "Age_1    -3.818182\n",
      "Age_2    -2.318182\n",
      "Age_4     2.181818\n",
      "Age_5     3.181818\n",
      "dtype: float64\n"
     ]
    }
   ],
   "source": [
    "import pandas as pd\n",
    "import statsmodels.api as sm\n",
    "\n",
    "data = pd.DataFrame({\n",
    "    'Age_Group': [1,1, 2,2,2,2,2,2, 3,3,3,3,3,3,3,3,3,3,3, 4,4,4,4, 5,5],\n",
    "    'Ig_A': [83,85, 84,85,85,86,86,87, 86,87,87,87,88,88,88,88,88,89,90, 89,90,90,91, 90,92]\n",
    "})\n",
    "\n",
    "# Создание индикаторных переменных\n",
    "base = 3\n",
    "dummies = pd.get_dummies(data['Age_Group'], prefix='Age', dtype=int).drop(columns=[f'Age_{base}'])\n",
    "\n",
    "dummies_clear = dummies\n",
    "\n",
    "for k in range(1, 5 + 1):\n",
    "    # Регрессия на остальные переменные\n",
    "    if (k != base):\n",
    "        model = sm.OLS(dummies_clear[f'Age_{k}'], sm.add_constant(dummies_clear.drop(f'Age_{k}', axis=1))).fit()\n",
    "        print(f'R² для Age_{k}: {model.rsquared:.3f}')\n",
    "        if (model.rsquared > 0.7):\n",
    "            print(f'Age_{k} можно выбросить')\n",
    "            dummies_clear = dummies_clear.drop(f'Age_{k}', axis=1)\n",
    "\n",
    "# Регрессия\n",
    "X = sm.add_constant(dummies_clear)\n",
    "model = sm.OLS(data['Ig_A'], X).fit()\n",
    "print(model.params)"
   ]
  },
  {
   "cell_type": "code",
   "execution_count": null,
   "id": "588b4aac",
   "metadata": {},
   "outputs": [
    {
     "name": "stdout",
     "output_type": "stream",
     "text": [
      "Незначимое различие средних между группами 1, 2\n",
      "Незначимое различие средних между группами 4, 5\n",
      "Значимое различие средних между группами 2, 4\n",
      "Значимое различие средних между группами 2, 3\n",
      "Значимое различие средних между группами 2, 5\n",
      "Значимое различие средних между группами 1, 3\n",
      "Значимое различие средних между группами 1, 4\n",
      "Значимое различие средних между группами 3, 4\n",
      "Значимое различие средних между группами 3, 5\n",
      "Значимое различие средних между группами 1, 5\n"
     ]
    }
   ],
   "source": [
    "import numpy as np\n",
    "from scipy.stats import f, ttest_ind\n",
    "\n",
    "group_data = {\n",
    "    1:  [83, 85],\n",
    "    2:  [84, 85, 85, 86, 86, 87],\n",
    "    3:  [86, 87, 87, 87, 88, 88, 88, 88, 88, 89, 90],\n",
    "    4:  [89, 90, 90, 91],\n",
    "    5:  [90, 92]\n",
    "}\n",
    "s_2 = [len(group_data[i + 1]) * (np.std(group_data[i + 1])) ** 2 / (len(group_data[i + 1]) - 1) for i in range(len(group_data))]\n",
    "\n",
    "pairs = [(i, j) for i in range(1, 6) for j in range(i + 1, 6)]\n",
    "\n",
    "# Проверка на равенство дисперсий\n",
    "for pair in pairs:\n",
    "    n = len(group_data[pair[0]])\n",
    "    m = len(group_data[pair[1]])\n",
    "    s2x = n / (n - 1) * np.std(group_data[pair[0]]) ** 2\n",
    "    s2y = m / (m - 1) * np.std(group_data[pair[1]]) ** 2\n",
    "    delta = s2x / s2y\n",
    "    p_value = f.sf(delta, n - 1, m - 1)\n",
    "    if (p_value < 0.05):\n",
    "        print(f'Отвергаем H₀, группы {pair[0]}, {pair[1]}')\n",
    "\n",
    "\n",
    "hb_p_values = {}\n",
    "for pair in pairs:\n",
    "    delta, p_value = ttest_ind(group_data[pair[0]], group_data[pair[1]], equal_var=True)\n",
    "    if (p_value < 0.05):\n",
    "        hb_p_values[pair] = p_value\n",
    "    else:\n",
    "        print(f'Незначимое различие средних между группами {pair[0]}, {pair[1]}')\n",
    "\n",
    "hb_p_values = dict(sorted(hb_p_values.items(), key=lambda item: item[1]))\n",
    "\n",
    "m = len(hb_p_values)\n",
    "for pair, p_value in hb_p_values.items():\n",
    "    if (p_value < 0.05 / m):\n",
    "        m-=1\n",
    "        print(f'Значимое различие средних между группами {pair[0]}, {pair[1]}')\n",
    "    else:\n",
    "        print(f'Незначимое различие средних между группами {pair[0]}, {pair[1]}')\n"
   ]
  },
  {
   "cell_type": "code",
   "execution_count": 3,
   "id": "0cad25fc",
   "metadata": {},
   "outputs": [],
   "source": [
    "# from statsmodels.formula.api import ols\n",
    "# from statsmodels.stats.multicomp import pairwise_tukeyhsd\n",
    "# import matplotlib.pyplot as plt\n",
    "\n",
    "\n",
    "# # b) Попарное сравнение средних (ANOVA + Tukey HSD)\n",
    "# # ANOVA\n",
    "# anova_model = ols('Ig_A ~ C(Age_Group)', data=data).fit()\n",
    "# anova_table = sm.stats.anova_lm(anova_model, typ=2)\n",
    "# print(\"\\nANOVA таблица:\")\n",
    "# print(anova_table)\n",
    "\n",
    "# # Tukey HSD\n",
    "# tukey = pairwise_tukeyhsd(endog=data.Ig_A, groups=data.Age_Group, alpha=0.05)\n",
    "# print(\"\\nРезультаты теста Тьюки:\")\n",
    "# print(tukey)\n",
    "\n",
    "# # Визуализация\n",
    "# tukey.plot_simultaneous()\n",
    "# plt.xlabel('Уровень Ig A (%)')\n",
    "# plt.ylabel('Группа')\n",
    "# plt.title('Попарные сравнения (Tukey HSD)')\n",
    "# plt.show()"
   ]
  }
 ],
 "metadata": {
  "kernelspec": {
   "display_name": "my-rdkit-env",
   "language": "python",
   "name": "python3"
  },
  "language_info": {
   "codemirror_mode": {
    "name": "ipython",
    "version": 3
   },
   "file_extension": ".py",
   "mimetype": "text/x-python",
   "name": "python",
   "nbconvert_exporter": "python",
   "pygments_lexer": "ipython3",
   "version": "3.13.0"
  }
 },
 "nbformat": 4,
 "nbformat_minor": 5
}
